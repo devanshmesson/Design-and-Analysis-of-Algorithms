{
  "nbformat": 4,
  "nbformat_minor": 0,
  "metadata": {
    "colab": {
      "name": "Untitled12.ipynb",
      "provenance": [],
      "authorship_tag": "ABX9TyMCJOWKY/RPT0vw/tjeWwjb",
      "include_colab_link": true
    },
    "kernelspec": {
      "name": "python3",
      "display_name": "Python 3"
    }
  },
  "cells": [
    {
      "cell_type": "markdown",
      "metadata": {
        "id": "view-in-github",
        "colab_type": "text"
      },
      "source": [
        "<a href=\"https://colab.research.google.com/github/zeph0yr/Design-and-Analysis-of-Algorithms/blob/master/Decision%20tree%20regression.ipynb\" target=\"_parent\"><img src=\"https://colab.research.google.com/assets/colab-badge.svg\" alt=\"Open In Colab\"/></a>"
      ]
    },
    {
      "cell_type": "code",
      "metadata": {
        "id": "CZI5fD3wDeGa",
        "colab_type": "code",
        "colab": {}
      },
      "source": [
        "import pandas as pd\n",
        "import numpy as np\n",
        "%matplotlib inline\n",
        "import matplotlib.pyplot as plt\n",
        "import matplotlib\n",
        "from sklearn.preprocessing import MinMaxScaler\n",
        "from keras.layers import LSTM,Dense,Dropout\n",
        "from sklearn.model_selection import TimeSeriesSplit\n",
        "from sklearn.metrics import mean_squared_error, r2_score\n",
        "import matplotlib.dates as mdates\n",
        "from sklearn import linear_model"
      ],
      "execution_count": 0,
      "outputs": []
    },
    {
      "cell_type": "code",
      "metadata": {
        "id": "lE04zzwkFpEG",
        "colab_type": "code",
        "colab": {}
      },
      "source": [
        "df_final = pd.read_csv(\"AAPL.csv\",na_values=['null'],index_col='Date',parse_dates=True,infer_datetime_format=True)\n",
        "#feature scaling\n",
        "#from sklearn.preprocessing import MinMaxScaler\n",
        "#sc = MinMaxScaler(feature_range = (0, 1))\n",
        "#df= sc.fit_transform(df_final)"
      ],
      "execution_count": 0,
      "outputs": []
    },
    {
      "cell_type": "code",
      "metadata": {
        "id": "nCbyqaKWGSGj",
        "colab_type": "code",
        "colab": {
          "base_uri": "https://localhost:8080/",
          "height": 235
        },
        "outputId": "99d725ce-6b2e-4a38-e418-1e82c735a7f7"
      },
      "source": [
        "df_final.head()\n",
        "\n"
      ],
      "execution_count": 84,
      "outputs": [
        {
          "output_type": "execute_result",
          "data": {
            "text/html": [
              "<div>\n",
              "<style scoped>\n",
              "    .dataframe tbody tr th:only-of-type {\n",
              "        vertical-align: middle;\n",
              "    }\n",
              "\n",
              "    .dataframe tbody tr th {\n",
              "        vertical-align: top;\n",
              "    }\n",
              "\n",
              "    .dataframe thead th {\n",
              "        text-align: right;\n",
              "    }\n",
              "</style>\n",
              "<table border=\"1\" class=\"dataframe\">\n",
              "  <thead>\n",
              "    <tr style=\"text-align: right;\">\n",
              "      <th></th>\n",
              "      <th>Open</th>\n",
              "      <th>High</th>\n",
              "      <th>Low</th>\n",
              "      <th>Close</th>\n",
              "      <th>Adj Close</th>\n",
              "      <th>Volume</th>\n",
              "    </tr>\n",
              "    <tr>\n",
              "      <th>Date</th>\n",
              "      <th></th>\n",
              "      <th></th>\n",
              "      <th></th>\n",
              "      <th></th>\n",
              "      <th></th>\n",
              "      <th></th>\n",
              "    </tr>\n",
              "  </thead>\n",
              "  <tbody>\n",
              "    <tr>\n",
              "      <th>2019-01-30</th>\n",
              "      <td>163.250000</td>\n",
              "      <td>166.149994</td>\n",
              "      <td>160.229996</td>\n",
              "      <td>165.250000</td>\n",
              "      <td>162.803864</td>\n",
              "      <td>61109800</td>\n",
              "    </tr>\n",
              "    <tr>\n",
              "      <th>2019-01-31</th>\n",
              "      <td>166.110001</td>\n",
              "      <td>169.000000</td>\n",
              "      <td>164.559998</td>\n",
              "      <td>166.440002</td>\n",
              "      <td>163.976242</td>\n",
              "      <td>40739600</td>\n",
              "    </tr>\n",
              "    <tr>\n",
              "      <th>2019-02-01</th>\n",
              "      <td>166.960007</td>\n",
              "      <td>168.979996</td>\n",
              "      <td>165.929993</td>\n",
              "      <td>166.520004</td>\n",
              "      <td>164.055069</td>\n",
              "      <td>32668100</td>\n",
              "    </tr>\n",
              "    <tr>\n",
              "      <th>2019-02-04</th>\n",
              "      <td>167.410004</td>\n",
              "      <td>171.660004</td>\n",
              "      <td>167.279999</td>\n",
              "      <td>171.250000</td>\n",
              "      <td>168.715042</td>\n",
              "      <td>31495500</td>\n",
              "    </tr>\n",
              "    <tr>\n",
              "      <th>2019-02-05</th>\n",
              "      <td>172.860001</td>\n",
              "      <td>175.080002</td>\n",
              "      <td>172.350006</td>\n",
              "      <td>174.179993</td>\n",
              "      <td>171.601685</td>\n",
              "      <td>36101600</td>\n",
              "    </tr>\n",
              "  </tbody>\n",
              "</table>\n",
              "</div>"
            ],
            "text/plain": [
              "                  Open        High  ...   Adj Close    Volume\n",
              "Date                                ...                      \n",
              "2019-01-30  163.250000  166.149994  ...  162.803864  61109800\n",
              "2019-01-31  166.110001  169.000000  ...  163.976242  40739600\n",
              "2019-02-01  166.960007  168.979996  ...  164.055069  32668100\n",
              "2019-02-04  167.410004  171.660004  ...  168.715042  31495500\n",
              "2019-02-05  172.860001  175.080002  ...  171.601685  36101600\n",
              "\n",
              "[5 rows x 6 columns]"
            ]
          },
          "metadata": {
            "tags": []
          },
          "execution_count": 84
        }
      ]
    },
    {
      "cell_type": "code",
      "metadata": {
        "id": "4dLTugIuG98F",
        "colab_type": "code",
        "colab": {
          "base_uri": "https://localhost:8080/",
          "height": 34
        },
        "outputId": "82a8f4da-fd68-4c44-e035-f3df033e3f13"
      },
      "source": [
        "df_final.shape\n"
      ],
      "execution_count": 85,
      "outputs": [
        {
          "output_type": "execute_result",
          "data": {
            "text/plain": [
              "(253, 6)"
            ]
          },
          "metadata": {
            "tags": []
          },
          "execution_count": 85
        }
      ]
    },
    {
      "cell_type": "code",
      "metadata": {
        "id": "ZmEukDwLHClh",
        "colab_type": "code",
        "colab": {
          "base_uri": "https://localhost:8080/",
          "height": 297
        },
        "outputId": "e7120c09-3764-41bd-8105-d64f39646183"
      },
      "source": [
        "df_final.describe()\n"
      ],
      "execution_count": 86,
      "outputs": [
        {
          "output_type": "execute_result",
          "data": {
            "text/html": [
              "<div>\n",
              "<style scoped>\n",
              "    .dataframe tbody tr th:only-of-type {\n",
              "        vertical-align: middle;\n",
              "    }\n",
              "\n",
              "    .dataframe tbody tr th {\n",
              "        vertical-align: top;\n",
              "    }\n",
              "\n",
              "    .dataframe thead th {\n",
              "        text-align: right;\n",
              "    }\n",
              "</style>\n",
              "<table border=\"1\" class=\"dataframe\">\n",
              "  <thead>\n",
              "    <tr style=\"text-align: right;\">\n",
              "      <th></th>\n",
              "      <th>Open</th>\n",
              "      <th>High</th>\n",
              "      <th>Low</th>\n",
              "      <th>Close</th>\n",
              "      <th>Adj Close</th>\n",
              "      <th>Volume</th>\n",
              "    </tr>\n",
              "  </thead>\n",
              "  <tbody>\n",
              "    <tr>\n",
              "      <th>count</th>\n",
              "      <td>253.000000</td>\n",
              "      <td>253.000000</td>\n",
              "      <td>253.000000</td>\n",
              "      <td>253.000000</td>\n",
              "      <td>253.000000</td>\n",
              "      <td>2.530000e+02</td>\n",
              "    </tr>\n",
              "    <tr>\n",
              "      <th>mean</th>\n",
              "      <td>220.159102</td>\n",
              "      <td>222.232292</td>\n",
              "      <td>218.543518</td>\n",
              "      <td>220.598419</td>\n",
              "      <td>219.533906</td>\n",
              "      <td>2.768743e+07</td>\n",
              "    </tr>\n",
              "    <tr>\n",
              "      <th>std</th>\n",
              "      <td>40.470905</td>\n",
              "      <td>40.761894</td>\n",
              "      <td>40.366856</td>\n",
              "      <td>40.741973</td>\n",
              "      <td>41.385308</td>\n",
              "      <td>9.858903e+06</td>\n",
              "    </tr>\n",
              "    <tr>\n",
              "      <th>min</th>\n",
              "      <td>163.250000</td>\n",
              "      <td>166.149994</td>\n",
              "      <td>160.229996</td>\n",
              "      <td>165.250000</td>\n",
              "      <td>162.803864</td>\n",
              "      <td>1.136200e+07</td>\n",
              "    </tr>\n",
              "    <tr>\n",
              "      <th>25%</th>\n",
              "      <td>191.809998</td>\n",
              "      <td>195.369995</td>\n",
              "      <td>191.050003</td>\n",
              "      <td>193.339996</td>\n",
              "      <td>191.967804</td>\n",
              "      <td>2.099050e+07</td>\n",
              "    </tr>\n",
              "    <tr>\n",
              "      <th>50%</th>\n",
              "      <td>205.860001</td>\n",
              "      <td>207.750000</td>\n",
              "      <td>203.860001</td>\n",
              "      <td>206.490005</td>\n",
              "      <td>205.084274</td>\n",
              "      <td>2.588170e+07</td>\n",
              "    </tr>\n",
              "    <tr>\n",
              "      <th>75%</th>\n",
              "      <td>247.240005</td>\n",
              "      <td>249.169998</td>\n",
              "      <td>242.570007</td>\n",
              "      <td>246.580002</td>\n",
              "      <td>245.841919</td>\n",
              "      <td>3.201060e+07</td>\n",
              "    </tr>\n",
              "    <tr>\n",
              "      <th>max</th>\n",
              "      <td>324.450012</td>\n",
              "      <td>327.850006</td>\n",
              "      <td>321.380005</td>\n",
              "      <td>324.339996</td>\n",
              "      <td>324.339996</td>\n",
              "      <td>6.928140e+07</td>\n",
              "    </tr>\n",
              "  </tbody>\n",
              "</table>\n",
              "</div>"
            ],
            "text/plain": [
              "             Open        High         Low       Close   Adj Close        Volume\n",
              "count  253.000000  253.000000  253.000000  253.000000  253.000000  2.530000e+02\n",
              "mean   220.159102  222.232292  218.543518  220.598419  219.533906  2.768743e+07\n",
              "std     40.470905   40.761894   40.366856   40.741973   41.385308  9.858903e+06\n",
              "min    163.250000  166.149994  160.229996  165.250000  162.803864  1.136200e+07\n",
              "25%    191.809998  195.369995  191.050003  193.339996  191.967804  2.099050e+07\n",
              "50%    205.860001  207.750000  203.860001  206.490005  205.084274  2.588170e+07\n",
              "75%    247.240005  249.169998  242.570007  246.580002  245.841919  3.201060e+07\n",
              "max    324.450012  327.850006  321.380005  324.339996  324.339996  6.928140e+07"
            ]
          },
          "metadata": {
            "tags": []
          },
          "execution_count": 86
        }
      ]
    },
    {
      "cell_type": "code",
      "metadata": {
        "id": "fgryYLU4HEt8",
        "colab_type": "code",
        "colab": {
          "base_uri": "https://localhost:8080/",
          "height": 34
        },
        "outputId": "abe24d70-7fff-4fb5-a83a-2b6bf8e7507a"
      },
      "source": [
        "df_final.isnull().values.any()\n"
      ],
      "execution_count": 87,
      "outputs": [
        {
          "output_type": "execute_result",
          "data": {
            "text/plain": [
              "False"
            ]
          },
          "metadata": {
            "tags": []
          },
          "execution_count": 87
        }
      ]
    },
    {
      "cell_type": "code",
      "metadata": {
        "id": "0ci_1L4DHHpk",
        "colab_type": "code",
        "colab": {
          "base_uri": "https://localhost:8080/",
          "height": 294
        },
        "outputId": "96484336-509d-43b4-efbb-78bfbc229707"
      },
      "source": [
        "df_final['Adj Close'].plot()\n"
      ],
      "execution_count": 88,
      "outputs": [
        {
          "output_type": "execute_result",
          "data": {
            "text/plain": [
              "<matplotlib.axes._subplots.AxesSubplot at 0x7fce33950cc0>"
            ]
          },
          "metadata": {
            "tags": []
          },
          "execution_count": 88
        },
        {
          "output_type": "display_data",
          "data": {
            "image/png": "[encoded data removed]",
            "text/plain": [
              "<Figure size 432x288 with 1 Axes>"
            ]
          },
          "metadata": {
            "tags": []
          }
        }
      ]
    },
    {
      "cell_type": "code",
      "metadata": {
        "id": "6MknoTPVHKC3",
        "colab_type": "code",
        "colab": {}
      },
      "source": [
        "X=df_final.drop(['Adj Close'],axis=1)\n",
        "X=X.drop(['Close'],axis=1)"
      ],
      "execution_count": 0,
      "outputs": []
    },
    {
      "cell_type": "code",
      "metadata": {
        "id": "noH8f-IcHvAC",
        "colab_type": "code",
        "colab": {
          "base_uri": "https://localhost:8080/",
          "height": 364
        },
        "outputId": "63667b5d-62c1-4a4d-d233-0089e362759c"
      },
      "source": [
        "X.corrwith(df_final['Adj Close']).plot.bar(\n",
        "        figsize = (10, 4), title = \"Correlation with Adj Close\", fontsize = 20,\n",
        "        rot = 90, grid = True)"
      ],
      "execution_count": 90,
      "outputs": [
        {
          "output_type": "execute_result",
          "data": {
            "text/plain": [
              "<matplotlib.axes._subplots.AxesSubplot at 0x7fce338b9828>"
            ]
          },
          "metadata": {
            "tags": []
          },
          "execution_count": 90
        },
        {
          "output_type": "display_data",
          "data": {
            "image/png": "[encoded data removed]",
            "text/plain": [
              "<Figure size 720x288 with 1 Axes>"
            ]
          },
          "metadata": {
            "tags": []
          }
        }
      ]
    },
    {
      "cell_type": "code",
      "metadata": {
        "id": "bRYhkUdhH4a6",
        "colab_type": "code",
        "colab": {
          "base_uri": "https://localhost:8080/",
          "height": 235
        },
        "outputId": "4ffecbba-b3bb-48af-9675-92c6984362f7"
      },
      "source": [
        "test = df_final\n",
        "# Target column\n",
        "target_adj_close = pd.DataFrame(test['Adj Close'])\n",
        "display(test.head())"
      ],
      "execution_count": 91,
      "outputs": [
        {
          "output_type": "display_data",
          "data": {
            "text/html": [
              "<div>\n",
              "<style scoped>\n",
              "    .dataframe tbody tr th:only-of-type {\n",
              "        vertical-align: middle;\n",
              "    }\n",
              "\n",
              "    .dataframe tbody tr th {\n",
              "        vertical-align: top;\n",
              "    }\n",
              "\n",
              "    .dataframe thead th {\n",
              "        text-align: right;\n",
              "    }\n",
              "</style>\n",
              "<table border=\"1\" class=\"dataframe\">\n",
              "  <thead>\n",
              "    <tr style=\"text-align: right;\">\n",
              "      <th></th>\n",
              "      <th>Open</th>\n",
              "      <th>High</th>\n",
              "      <th>Low</th>\n",
              "      <th>Close</th>\n",
              "      <th>Adj Close</th>\n",
              "      <th>Volume</th>\n",
              "    </tr>\n",
              "    <tr>\n",
              "      <th>Date</th>\n",
              "      <th></th>\n",
              "      <th></th>\n",
              "      <th></th>\n",
              "      <th></th>\n",
              "      <th></th>\n",
              "      <th></th>\n",
              "    </tr>\n",
              "  </thead>\n",
              "  <tbody>\n",
              "    <tr>\n",
              "      <th>2019-01-30</th>\n",
              "      <td>163.250000</td>\n",
              "      <td>166.149994</td>\n",
              "      <td>160.229996</td>\n",
              "      <td>165.250000</td>\n",
              "      <td>162.803864</td>\n",
              "      <td>61109800</td>\n",
              "    </tr>\n",
              "    <tr>\n",
              "      <th>2019-01-31</th>\n",
              "      <td>166.110001</td>\n",
              "      <td>169.000000</td>\n",
              "      <td>164.559998</td>\n",
              "      <td>166.440002</td>\n",
              "      <td>163.976242</td>\n",
              "      <td>40739600</td>\n",
              "    </tr>\n",
              "    <tr>\n",
              "      <th>2019-02-01</th>\n",
              "      <td>166.960007</td>\n",
              "      <td>168.979996</td>\n",
              "      <td>165.929993</td>\n",
              "      <td>166.520004</td>\n",
              "      <td>164.055069</td>\n",
              "      <td>32668100</td>\n",
              "    </tr>\n",
              "    <tr>\n",
              "      <th>2019-02-04</th>\n",
              "      <td>167.410004</td>\n",
              "      <td>171.660004</td>\n",
              "      <td>167.279999</td>\n",
              "      <td>171.250000</td>\n",
              "      <td>168.715042</td>\n",
              "      <td>31495500</td>\n",
              "    </tr>\n",
              "    <tr>\n",
              "      <th>2019-02-05</th>\n",
              "      <td>172.860001</td>\n",
              "      <td>175.080002</td>\n",
              "      <td>172.350006</td>\n",
              "      <td>174.179993</td>\n",
              "      <td>171.601685</td>\n",
              "      <td>36101600</td>\n",
              "    </tr>\n",
              "  </tbody>\n",
              "</table>\n",
              "</div>"
            ],
            "text/plain": [
              "                  Open        High  ...   Adj Close    Volume\n",
              "Date                                ...                      \n",
              "2019-01-30  163.250000  166.149994  ...  162.803864  61109800\n",
              "2019-01-31  166.110001  169.000000  ...  163.976242  40739600\n",
              "2019-02-01  166.960007  168.979996  ...  164.055069  32668100\n",
              "2019-02-04  167.410004  171.660004  ...  168.715042  31495500\n",
              "2019-02-05  172.860001  175.080002  ...  171.601685  36101600\n",
              "\n",
              "[5 rows x 6 columns]"
            ]
          },
          "metadata": {
            "tags": []
          }
        }
      ]
    },
    {
      "cell_type": "code",
      "metadata": {
        "id": "qJFgO3f7H7wS",
        "colab_type": "code",
        "colab": {}
      },
      "source": [
        "# selecting Feature Columns\n",
        "feature_columns = ['Open', 'High', 'Low', 'Volume']"
      ],
      "execution_count": 0,
      "outputs": []
    },
    {
      "cell_type": "code",
      "metadata": {
        "id": "O4ENURsdH9-Y",
        "colab_type": "code",
        "colab": {
          "base_uri": "https://localhost:8080/",
          "height": 235
        },
        "outputId": "9fa20577-ff20-4a46-d811-8e9705ee9516"
      },
      "source": [
        "from sklearn.preprocessing import MinMaxScaler\n",
        "scaler = MinMaxScaler()\n",
        "feature_minmax_transform_data = scaler.fit_transform(test[feature_columns])\n",
        "feature_minmax_transform = pd.DataFrame(columns=feature_columns, data=feature_minmax_transform_data, index=test.index)\n",
        "feature_minmax_transform.head()"
      ],
      "execution_count": 93,
      "outputs": [
        {
          "output_type": "execute_result",
          "data": {
            "text/html": [
              "<div>\n",
              "<style scoped>\n",
              "    .dataframe tbody tr th:only-of-type {\n",
              "        vertical-align: middle;\n",
              "    }\n",
              "\n",
              "    .dataframe tbody tr th {\n",
              "        vertical-align: top;\n",
              "    }\n",
              "\n",
              "    .dataframe thead th {\n",
              "        text-align: right;\n",
              "    }\n",
              "</style>\n",
              "<table border=\"1\" class=\"dataframe\">\n",
              "  <thead>\n",
              "    <tr style=\"text-align: right;\">\n",
              "      <th></th>\n",
              "      <th>Open</th>\n",
              "      <th>High</th>\n",
              "      <th>Low</th>\n",
              "      <th>Volume</th>\n",
              "    </tr>\n",
              "    <tr>\n",
              "      <th>Date</th>\n",
              "      <th></th>\n",
              "      <th></th>\n",
              "      <th></th>\n",
              "      <th></th>\n",
              "    </tr>\n",
              "  </thead>\n",
              "  <tbody>\n",
              "    <tr>\n",
              "      <th>2019-01-30</th>\n",
              "      <td>0.000000</td>\n",
              "      <td>0.000000</td>\n",
              "      <td>0.000000</td>\n",
              "      <td>0.858914</td>\n",
              "    </tr>\n",
              "    <tr>\n",
              "      <th>2019-01-31</th>\n",
              "      <td>0.017742</td>\n",
              "      <td>0.017625</td>\n",
              "      <td>0.026869</td>\n",
              "      <td>0.507215</td>\n",
              "    </tr>\n",
              "    <tr>\n",
              "      <th>2019-02-01</th>\n",
              "      <td>0.023015</td>\n",
              "      <td>0.017502</td>\n",
              "      <td>0.035371</td>\n",
              "      <td>0.367858</td>\n",
              "    </tr>\n",
              "    <tr>\n",
              "      <th>2019-02-04</th>\n",
              "      <td>0.025806</td>\n",
              "      <td>0.034076</td>\n",
              "      <td>0.043748</td>\n",
              "      <td>0.347612</td>\n",
              "    </tr>\n",
              "    <tr>\n",
              "      <th>2019-02-05</th>\n",
              "      <td>0.059615</td>\n",
              "      <td>0.055226</td>\n",
              "      <td>0.075209</td>\n",
              "      <td>0.427138</td>\n",
              "    </tr>\n",
              "  </tbody>\n",
              "</table>\n",
              "</div>"
            ],
            "text/plain": [
              "                Open      High       Low    Volume\n",
              "Date                                              \n",
              "2019-01-30  0.000000  0.000000  0.000000  0.858914\n",
              "2019-01-31  0.017742  0.017625  0.026869  0.507215\n",
              "2019-02-01  0.023015  0.017502  0.035371  0.367858\n",
              "2019-02-04  0.025806  0.034076  0.043748  0.347612\n",
              "2019-02-05  0.059615  0.055226  0.075209  0.427138"
            ]
          },
          "metadata": {
            "tags": []
          },
          "execution_count": 93
        }
      ]
    },
    {
      "cell_type": "code",
      "metadata": {
        "id": "-b7o962lH_Uu",
        "colab_type": "code",
        "colab": {}
      },
      "source": [
        "display(feature_minmax_transform.head())\n",
        "print('Shape of features : ', feature_minmax_transform.shape)\n",
        "print('Shape of target : ', target_adj_close.shape)\n",
        "\n",
        "# Shift target array because we want to predict the n + 1 day value\n",
        "\n",
        "\n",
        "target_adj_close = target_adj_close.shift(-1)\n",
        "validation_y = target_adj_close[-90:-1]\n",
        "target_adj_close = target_adj_close[:-90]\n",
        "\n",
        "# Taking last 90 rows of data to be validation set\n",
        "validation_X = feature_minmax_transform[-90:-1]\n",
        "feature_minmax_transform = feature_minmax_transform[:-90]\n",
        "display(validation_X.tail())\n",
        "display(validation_y.tail())\n",
        "\n",
        "print(\"\\n -----After process------ \\n\")\n",
        "print('Shape of features : ', feature_minmax_transform.shape)\n",
        "print('Shape of target : ', target_adj_close.shape)\n",
        "display(target_adj_close.tail())"
      ],
      "execution_count": 0,
      "outputs": []
    },
    {
      "cell_type": "code",
      "metadata": {
        "id": "0tZWVDgfIKBA",
        "colab_type": "code",
        "colab": {}
      },
      "source": [
        "s_split= TimeSeriesSplit(n_splits=10)\n",
        "for train_index, test_index in ts_split.split(feature_minmax_transform):\n",
        "        X_train, X_test = feature_minmax_transform[:len(train_index)], feature_minmax_transform[len(train_index): (len(train_index)+len(test_index))]\n",
        "        y_train, y_test = target_adj_close[:len(train_index)].values.ravel(), target_adj_close[len(train_index): (len(train_index)+len(test_index))].values.ravel()"
      ],
      "execution_count": 0,
      "outputs": []
    },
    {
      "cell_type": "code",
      "metadata": {
        "id": "WUj013zuILI7",
        "colab_type": "code",
        "colab": {
          "base_uri": "https://localhost:8080/",
          "height": 34
        },
        "outputId": "36e5f6b3-31b9-45e3-aa31-1fb5f6393897"
      },
      "source": [
        "X_train.shape\n"
      ],
      "execution_count": 97,
      "outputs": [
        {
          "output_type": "execute_result",
          "data": {
            "text/plain": [
              "(67, 4)"
            ]
          },
          "metadata": {
            "tags": []
          },
          "execution_count": 97
        }
      ]
    },
    {
      "cell_type": "code",
      "metadata": {
        "id": "jUCN00aNIODg",
        "colab_type": "code",
        "colab": {
          "base_uri": "https://localhost:8080/",
          "height": 34
        },
        "outputId": "a0d2d857-1a2d-4885-d47f-255bd1c8d7e9"
      },
      "source": [
        "X_test.shape\n"
      ],
      "execution_count": 98,
      "outputs": [
        {
          "output_type": "execute_result",
          "data": {
            "text/plain": [
              "(6, 4)"
            ]
          },
          "metadata": {
            "tags": []
          },
          "execution_count": 98
        }
      ]
    },
    {
      "cell_type": "code",
      "metadata": {
        "id": "sgSP_bLAIs7t",
        "colab_type": "code",
        "colab": {
          "base_uri": "https://localhost:8080/",
          "height": 34
        },
        "outputId": "afbe2e8e-1881-4b15-ee12-3a0aa2b46327"
      },
      "source": [
        "y_train.shape\n",
        "\n"
      ],
      "execution_count": 99,
      "outputs": [
        {
          "output_type": "execute_result",
          "data": {
            "text/plain": [
              "(67,)"
            ]
          },
          "metadata": {
            "tags": []
          },
          "execution_count": 99
        }
      ]
    },
    {
      "cell_type": "code",
      "metadata": {
        "id": "EjsLGkFoIv7m",
        "colab_type": "code",
        "colab": {
          "base_uri": "https://localhost:8080/",
          "height": 34
        },
        "outputId": "f5853599-f462-426d-c094-80128637f137"
      },
      "source": [
        "y_test.shape\n"
      ],
      "execution_count": 100,
      "outputs": [
        {
          "output_type": "execute_result",
          "data": {
            "text/plain": [
              "(6,)"
            ]
          },
          "metadata": {
            "tags": []
          },
          "execution_count": 100
        }
      ]
    },
    {
      "cell_type": "code",
      "metadata": {
        "id": "2pQy4fvVI2Zc",
        "colab_type": "code",
        "colab": {}
      },
      "source": [
        "def validate_result(model, model_name):\n",
        "    predicted = model.predict(validation_X)\n",
        "    RSME_score = np.sqrt(mean_squared_error(validation_y, predicted))\n",
        "    print('RMSE: ', RSME_score)\n",
        "    \n",
        "    R2_score = r2_score(validation_y, predicted)\n",
        "    print('R2 score: ', R2_score)\n",
        "\n",
        "    plt.plot(validation_y.index, predicted,'r', label='Predict')\n",
        "    plt.plot(validation_y.index, validation_y,'b', label='Actual')\n",
        "    plt.ylabel('Price')\n",
        "    plt.gca().xaxis.set_major_formatter(mdates.DateFormatter('%Y-%m-%d'))\n",
        "    plt.gca().xaxis.set_major_locator(mdates.MonthLocator())\n",
        "    plt.title(model_name + ' Predict vs Actual')\n",
        "    plt.legend(loc='upper right')\n",
        "    plt.show()"
      ],
      "execution_count": 0,
      "outputs": []
    },
    {
      "cell_type": "code",
      "metadata": {
        "id": "DT7t_qPjSO1d",
        "colab_type": "code",
        "colab": {
          "base_uri": "https://localhost:8080/",
          "height": 315
        },
        "outputId": "5396b792-2adc-4c2e-cc4c-39505db7bcb7"
      },
      "source": [
        "from sklearn.tree import DecisionTreeRegressor\n",
        "\n",
        "dt = DecisionTreeRegressor(random_state=0)\n",
        "\n",
        "benchmark_dt=dt.fit(X_train, y_train)\n",
        "\n",
        "validate_result(benchmark_dt, 'Decision Tree Regression')"
      ],
      "execution_count": 102,
      "outputs": [
        {
          "output_type": "stream",
          "text": [
            "RMSE:  6.976221623828571\n",
            "R2 score:  0.6580988879319389\n"
          ],
          "name": "stdout"
        },
        {
          "output_type": "display_data",
          "data": {
            "image/png": "[encoded data removed]",
            "text/plain": [
              "<Figure size 432x288 with 1 Axes>"
            ]
          },
          "metadata": {
            "tags": []
          }
        }
      ]
    },
    {
      "cell_type": "code",
      "metadata": {
        "id": "In6dAW1nSZG-",
        "colab_type": "code",
        "colab": {}
      },
      "source": [
        "X_train =np.array(X_train)\n",
        "X_test =np.array(X_test)\n",
        "\n",
        "X_tr_t = X_train.reshape(X_train.shape[0], 1, X_train.shape[1])\n",
        "X_tst_t = X_test.reshape(X_test.shape[0], 1, X_test.shape[1])"
      ],
      "execution_count": 0,
      "outputs": []
    },
    {
      "cell_type": "code",
      "metadata": {
        "id": "rW-mlrXkSdca",
        "colab_type": "code",
        "colab": {
          "base_uri": "https://localhost:8080/",
          "height": 1000
        },
        "outputId": "db0e2b67-8647-4a1c-f052-77db8b22d42d"
      },
      "source": [
        "from keras.models import Sequential\n",
        "from keras.layers import Dense\n",
        "import keras.backend as K\n",
        "from keras.callbacks import EarlyStopping\n",
        "from keras.optimizers import Adam\n",
        "from keras.models import load_model\n",
        "from keras.layers import LSTM\n",
        "K.clear_session()\n",
        "model_lstm = Sequential()\n",
        "model_lstm.add(LSTM(16, input_shape=(1, X_train.shape[1]), activation='relu', return_sequences=False))\n",
        "model_lstm.add(Dense(1))\n",
        "model_lstm.compile(loss='mean_squared_error', optimizer='adam')\n",
        "early_stop = EarlyStopping(monitor='loss', patience=5, verbose=1)\n",
        "history_model_lstm = model_lstm.fit(X_tr_t, y_train, epochs=200, batch_size=8, verbose=1, shuffle=False, callbacks=[early_stop])"
      ],
      "execution_count": 104,
      "outputs": [
        {
          "output_type": "stream",
          "text": [
            "Epoch 1/200\n",
            "67/67 [==============================] - 1s 10ms/step - loss: 34615.4898\n",
            "Epoch 2/200\n",
            "67/67 [==============================] - 0s 417us/step - loss: 34608.9457\n",
            "Epoch 3/200\n",
            "67/67 [==============================] - 0s 368us/step - loss: 34602.4626\n",
            "Epoch 4/200\n",
            "67/67 [==============================] - 0s 399us/step - loss: 34596.0900\n",
            "Epoch 5/200\n",
            "67/67 [==============================] - 0s 401us/step - loss: 34589.6311\n",
            "Epoch 6/200\n",
            "67/67 [==============================] - 0s 413us/step - loss: 34582.7716\n",
            "Epoch 7/200\n",
            "67/67 [==============================] - 0s 434us/step - loss: 34575.4710\n",
            "Epoch 8/200\n",
            "67/67 [==============================] - 0s 474us/step - loss: 34567.7104\n",
            "Epoch 9/200\n",
            "67/67 [==============================] - 0s 412us/step - loss: 34559.5050\n",
            "Epoch 10/200\n",
            "67/67 [==============================] - 0s 423us/step - loss: 34550.8228\n",
            "Epoch 11/200\n",
            "67/67 [==============================] - 0s 418us/step - loss: 34541.6103\n",
            "Epoch 12/200\n",
            "67/67 [==============================] - 0s 412us/step - loss: 34531.8106\n",
            "Epoch 13/200\n",
            "67/67 [==============================] - 0s 423us/step - loss: 34521.3953\n",
            "Epoch 14/200\n",
            "67/67 [==============================] - 0s 385us/step - loss: 34510.3422\n",
            "Epoch 15/200\n",
            "67/67 [==============================] - 0s 379us/step - loss: 34498.5924\n",
            "Epoch 16/200\n",
            "67/67 [==============================] - 0s 418us/step - loss: 34486.0790\n",
            "Epoch 17/200\n",
            "67/67 [==============================] - 0s 384us/step - loss: 34472.7538\n",
            "Epoch 18/200\n",
            "67/67 [==============================] - 0s 464us/step - loss: 34458.5903\n",
            "Epoch 19/200\n",
            "67/67 [==============================] - 0s 421us/step - loss: 34443.5458\n",
            "Epoch 20/200\n",
            "67/67 [==============================] - 0s 355us/step - loss: 34427.5702\n",
            "Epoch 21/200\n",
            "67/67 [==============================] - 0s 445us/step - loss: 34410.6178\n",
            "Epoch 22/200\n",
            "67/67 [==============================] - 0s 429us/step - loss: 34392.6411\n",
            "Epoch 23/200\n",
            "67/67 [==============================] - 0s 410us/step - loss: 34373.5883\n",
            "Epoch 24/200\n",
            "67/67 [==============================] - 0s 414us/step - loss: 34353.4102\n",
            "Epoch 25/200\n",
            "67/67 [==============================] - 0s 397us/step - loss: 34332.0544\n",
            "Epoch 26/200\n",
            "67/67 [==============================] - 0s 416us/step - loss: 34309.4731\n",
            "Epoch 27/200\n",
            "67/67 [==============================] - 0s 409us/step - loss: 34285.6136\n",
            "Epoch 28/200\n",
            "67/67 [==============================] - 0s 386us/step - loss: 34260.4201\n",
            "Epoch 29/200\n",
            "67/67 [==============================] - 0s 381us/step - loss: 34233.8387\n",
            "Epoch 30/200\n",
            "67/67 [==============================] - 0s 413us/step - loss: 34205.8178\n",
            "Epoch 31/200\n",
            "67/67 [==============================] - 0s 426us/step - loss: 34176.3015\n",
            "Epoch 32/200\n",
            "67/67 [==============================] - 0s 422us/step - loss: 34145.2351\n",
            "Epoch 33/200\n",
            "67/67 [==============================] - 0s 441us/step - loss: 34112.5620\n",
            "Epoch 34/200\n",
            "67/67 [==============================] - 0s 364us/step - loss: 34078.2243\n",
            "Epoch 35/200\n",
            "67/67 [==============================] - 0s 590us/step - loss: 34042.1702\n",
            "Epoch 36/200\n",
            "67/67 [==============================] - 0s 398us/step - loss: 34004.3396\n",
            "Epoch 37/200\n",
            "67/67 [==============================] - 0s 382us/step - loss: 33964.6747\n",
            "Epoch 38/200\n",
            "67/67 [==============================] - 0s 389us/step - loss: 33923.1192\n",
            "Epoch 39/200\n",
            "67/67 [==============================] - 0s 409us/step - loss: 33879.6139\n",
            "Epoch 40/200\n",
            "67/67 [==============================] - 0s 408us/step - loss: 33834.1019\n",
            "Epoch 41/200\n",
            "67/67 [==============================] - 0s 393us/step - loss: 33786.5247\n",
            "Epoch 42/200\n",
            "67/67 [==============================] - 0s 373us/step - loss: 33736.8254\n",
            "Epoch 43/200\n",
            "67/67 [==============================] - 0s 381us/step - loss: 33684.9443\n",
            "Epoch 44/200\n",
            "67/67 [==============================] - 0s 367us/step - loss: 33630.8233\n",
            "Epoch 45/200\n",
            "67/67 [==============================] - 0s 350us/step - loss: 33574.4023\n",
            "Epoch 46/200\n",
            "67/67 [==============================] - 0s 350us/step - loss: 33515.6292\n",
            "Epoch 47/200\n",
            "67/67 [==============================] - 0s 348us/step - loss: 33454.4406\n",
            "Epoch 48/200\n",
            "67/67 [==============================] - 0s 448us/step - loss: 33390.7810\n",
            "Epoch 49/200\n",
            "67/67 [==============================] - 0s 360us/step - loss: 33324.5942\n",
            "Epoch 50/200\n",
            "67/67 [==============================] - 0s 387us/step - loss: 33255.8229\n",
            "Epoch 51/200\n",
            "67/67 [==============================] - 0s 367us/step - loss: 33184.4086\n",
            "Epoch 52/200\n",
            "67/67 [==============================] - 0s 391us/step - loss: 33110.2995\n",
            "Epoch 53/200\n",
            "67/67 [==============================] - 0s 421us/step - loss: 33033.4366\n",
            "Epoch 54/200\n",
            "67/67 [==============================] - 0s 527us/step - loss: 32953.7992\n",
            "Epoch 55/200\n",
            "67/67 [==============================] - 0s 394us/step - loss: 32871.4233\n",
            "Epoch 56/200\n",
            "67/67 [==============================] - 0s 405us/step - loss: 32786.2645\n",
            "Epoch 57/200\n",
            "67/67 [==============================] - 0s 424us/step - loss: 32698.3517\n",
            "Epoch 58/200\n",
            "67/67 [==============================] - 0s 407us/step - loss: 32607.5770\n",
            "Epoch 59/200\n",
            "67/67 [==============================] - 0s 387us/step - loss: 32513.9013\n",
            "Epoch 60/200\n",
            "67/67 [==============================] - 0s 386us/step - loss: 32417.5391\n",
            "Epoch 61/200\n",
            "67/67 [==============================] - 0s 379us/step - loss: 32318.2826\n",
            "Epoch 62/200\n",
            "67/67 [==============================] - 0s 403us/step - loss: 32215.9867\n",
            "Epoch 63/200\n",
            "67/67 [==============================] - 0s 413us/step - loss: 32110.6167\n",
            "Epoch 64/200\n",
            "67/67 [==============================] - 0s 458us/step - loss: 32002.3513\n",
            "Epoch 65/200\n",
            "67/67 [==============================] - 0s 392us/step - loss: 31890.9723\n",
            "Epoch 66/200\n",
            "67/67 [==============================] - 0s 448us/step - loss: 31776.3807\n",
            "Epoch 67/200\n",
            "67/67 [==============================] - 0s 386us/step - loss: 31658.7771\n",
            "Epoch 68/200\n",
            "67/67 [==============================] - 0s 412us/step - loss: 31538.3548\n",
            "Epoch 69/200\n",
            "67/67 [==============================] - 0s 397us/step - loss: 31415.0031\n",
            "Epoch 70/200\n",
            "67/67 [==============================] - 0s 436us/step - loss: 31288.6825\n",
            "Epoch 71/200\n",
            "67/67 [==============================] - 0s 401us/step - loss: 31160.0264\n",
            "Epoch 72/200\n",
            "67/67 [==============================] - 0s 414us/step - loss: 31028.6807\n",
            "Epoch 73/200\n",
            "67/67 [==============================] - 0s 420us/step - loss: 30895.1409\n",
            "Epoch 74/200\n",
            "67/67 [==============================] - 0s 399us/step - loss: 30759.8089\n",
            "Epoch 75/200\n",
            "67/67 [==============================] - 0s 384us/step - loss: 30622.9176\n",
            "Epoch 76/200\n",
            "67/67 [==============================] - 0s 465us/step - loss: 30484.5556\n",
            "Epoch 77/200\n",
            "67/67 [==============================] - 0s 537us/step - loss: 30344.8786\n",
            "Epoch 78/200\n",
            "67/67 [==============================] - 0s 383us/step - loss: 30203.8814\n",
            "Epoch 79/200\n",
            "67/67 [==============================] - 0s 367us/step - loss: 30061.5450\n",
            "Epoch 80/200\n",
            "67/67 [==============================] - 0s 394us/step - loss: 29918.2249\n",
            "Epoch 81/200\n",
            "67/67 [==============================] - 0s 401us/step - loss: 29774.0677\n",
            "Epoch 82/200\n",
            "67/67 [==============================] - 0s 371us/step - loss: 29629.4104\n",
            "Epoch 83/200\n",
            "67/67 [==============================] - 0s 372us/step - loss: 29484.3217\n",
            "Epoch 84/200\n",
            "67/67 [==============================] - 0s 429us/step - loss: 29339.5415\n",
            "Epoch 85/200\n",
            "67/67 [==============================] - 0s 362us/step - loss: 29195.6316\n",
            "Epoch 86/200\n",
            "67/67 [==============================] - 0s 369us/step - loss: 29051.7861\n",
            "Epoch 87/200\n",
            "67/67 [==============================] - 0s 449us/step - loss: 28908.1925\n",
            "Epoch 88/200\n",
            "67/67 [==============================] - 0s 380us/step - loss: 28765.0271\n",
            "Epoch 89/200\n",
            "67/67 [==============================] - 0s 342us/step - loss: 28621.4165\n",
            "Epoch 90/200\n",
            "67/67 [==============================] - 0s 359us/step - loss: 28477.9798\n",
            "Epoch 91/200\n",
            "67/67 [==============================] - 0s 379us/step - loss: 28334.8434\n",
            "Epoch 92/200\n",
            "67/67 [==============================] - 0s 378us/step - loss: 28192.3024\n",
            "Epoch 93/200\n",
            "67/67 [==============================] - 0s 376us/step - loss: 28050.4093\n",
            "Epoch 94/200\n",
            "67/67 [==============================] - 0s 381us/step - loss: 27908.7444\n",
            "Epoch 95/200\n",
            "67/67 [==============================] - 0s 386us/step - loss: 27767.3995\n",
            "Epoch 96/200\n",
            "67/67 [==============================] - 0s 350us/step - loss: 27626.3539\n",
            "Epoch 97/200\n",
            "67/67 [==============================] - 0s 389us/step - loss: 27485.2516\n",
            "Epoch 98/200\n",
            "67/67 [==============================] - 0s 383us/step - loss: 27344.3020\n",
            "Epoch 99/200\n",
            "67/67 [==============================] - 0s 384us/step - loss: 27203.7050\n",
            "Epoch 100/200\n",
            "67/67 [==============================] - 0s 414us/step - loss: 27063.5087\n",
            "Epoch 101/200\n",
            "67/67 [==============================] - 0s 496us/step - loss: 26923.6294\n",
            "Epoch 102/200\n",
            "67/67 [==============================] - 0s 423us/step - loss: 26784.3239\n",
            "Epoch 103/200\n",
            "67/67 [==============================] - 0s 434us/step - loss: 26645.4571\n",
            "Epoch 104/200\n",
            "67/67 [==============================] - 0s 375us/step - loss: 26506.7362\n",
            "Epoch 105/200\n",
            "67/67 [==============================] - 0s 387us/step - loss: 26367.9844\n",
            "Epoch 106/200\n",
            "67/67 [==============================] - 0s 372us/step - loss: 26229.0888\n",
            "Epoch 107/200\n",
            "67/67 [==============================] - 0s 370us/step - loss: 26090.2722\n",
            "Epoch 108/200\n",
            "67/67 [==============================] - 0s 412us/step - loss: 25951.7162\n",
            "Epoch 109/200\n",
            "67/67 [==============================] - 0s 440us/step - loss: 25813.0160\n",
            "Epoch 110/200\n",
            "67/67 [==============================] - 0s 413us/step - loss: 25674.5087\n",
            "Epoch 111/200\n",
            "67/67 [==============================] - 0s 403us/step - loss: 25536.0426\n",
            "Epoch 112/200\n",
            "67/67 [==============================] - 0s 384us/step - loss: 25397.5128\n",
            "Epoch 113/200\n",
            "67/67 [==============================] - 0s 388us/step - loss: 25258.8310\n",
            "Epoch 114/200\n",
            "67/67 [==============================] - 0s 393us/step - loss: 25120.1088\n",
            "Epoch 115/200\n",
            "67/67 [==============================] - 0s 457us/step - loss: 24981.2386\n",
            "Epoch 116/200\n",
            "67/67 [==============================] - 0s 396us/step - loss: 24842.2785\n",
            "Epoch 117/200\n",
            "67/67 [==============================] - 0s 432us/step - loss: 24703.2270\n",
            "Epoch 118/200\n",
            "67/67 [==============================] - 0s 404us/step - loss: 24564.1388\n",
            "Epoch 119/200\n",
            "67/67 [==============================] - 0s 435us/step - loss: 24424.9012\n",
            "Epoch 120/200\n",
            "67/67 [==============================] - 0s 366us/step - loss: 24285.6055\n",
            "Epoch 121/200\n",
            "67/67 [==============================] - 0s 436us/step - loss: 24146.1392\n",
            "Epoch 122/200\n",
            "67/67 [==============================] - 0s 454us/step - loss: 24006.6290\n",
            "Epoch 123/200\n",
            "67/67 [==============================] - 0s 423us/step - loss: 23867.1833\n",
            "Epoch 124/200\n",
            "67/67 [==============================] - 0s 392us/step - loss: 23727.6969\n",
            "Epoch 125/200\n",
            "67/67 [==============================] - 0s 382us/step - loss: 23588.1865\n",
            "Epoch 126/200\n",
            "67/67 [==============================] - 0s 390us/step - loss: 23448.6355\n",
            "Epoch 127/200\n",
            "67/67 [==============================] - 0s 483us/step - loss: 23309.2845\n",
            "Epoch 128/200\n",
            "67/67 [==============================] - 0s 417us/step - loss: 23169.9853\n",
            "Epoch 129/200\n",
            "67/67 [==============================] - 0s 413us/step - loss: 23030.6784\n",
            "Epoch 130/200\n",
            "67/67 [==============================] - 0s 366us/step - loss: 22891.4230\n",
            "Epoch 131/200\n",
            "67/67 [==============================] - 0s 436us/step - loss: 22752.4827\n",
            "Epoch 132/200\n",
            "67/67 [==============================] - 0s 365us/step - loss: 22613.8347\n",
            "Epoch 133/200\n",
            "67/67 [==============================] - 0s 358us/step - loss: 22475.5292\n",
            "Epoch 134/200\n",
            "67/67 [==============================] - 0s 402us/step - loss: 22337.4588\n",
            "Epoch 135/200\n",
            "67/67 [==============================] - 0s 357us/step - loss: 22199.5874\n",
            "Epoch 136/200\n",
            "67/67 [==============================] - 0s 379us/step - loss: 22061.9055\n",
            "Epoch 137/200\n",
            "67/67 [==============================] - 0s 364us/step - loss: 21924.2494\n",
            "Epoch 138/200\n",
            "67/67 [==============================] - 0s 368us/step - loss: 21786.6583\n",
            "Epoch 139/200\n",
            "67/67 [==============================] - 0s 390us/step - loss: 21649.1644\n",
            "Epoch 140/200\n",
            "67/67 [==============================] - 0s 368us/step - loss: 21511.8676\n",
            "Epoch 141/200\n",
            "67/67 [==============================] - 0s 385us/step - loss: 21374.8846\n",
            "Epoch 142/200\n",
            "67/67 [==============================] - 0s 368us/step - loss: 21238.2360\n",
            "Epoch 143/200\n",
            "67/67 [==============================] - 0s 375us/step - loss: 21101.7734\n",
            "Epoch 144/200\n",
            "67/67 [==============================] - 0s 386us/step - loss: 20965.4148\n",
            "Epoch 145/200\n",
            "67/67 [==============================] - 0s 404us/step - loss: 20829.1150\n",
            "Epoch 146/200\n",
            "67/67 [==============================] - 0s 392us/step - loss: 20692.9175\n",
            "Epoch 147/200\n",
            "67/67 [==============================] - 0s 384us/step - loss: 20556.8594\n",
            "Epoch 148/200\n",
            "67/67 [==============================] - 0s 365us/step - loss: 20420.9697\n",
            "Epoch 149/200\n",
            "67/67 [==============================] - 0s 370us/step - loss: 20285.3243\n",
            "Epoch 150/200\n",
            "67/67 [==============================] - 0s 382us/step - loss: 20149.8255\n",
            "Epoch 151/200\n",
            "67/67 [==============================] - 0s 373us/step - loss: 20014.6045\n",
            "Epoch 152/200\n",
            "67/67 [==============================] - 0s 401us/step - loss: 19879.5831\n",
            "Epoch 153/200\n",
            "67/67 [==============================] - 0s 362us/step - loss: 19744.8397\n",
            "Epoch 154/200\n",
            "67/67 [==============================] - 0s 381us/step - loss: 19610.4293\n",
            "Epoch 155/200\n",
            "67/67 [==============================] - 0s 453us/step - loss: 19476.3018\n",
            "Epoch 156/200\n",
            "67/67 [==============================] - 0s 424us/step - loss: 19342.4086\n",
            "Epoch 157/200\n",
            "67/67 [==============================] - 0s 423us/step - loss: 19208.8056\n",
            "Epoch 158/200\n",
            "67/67 [==============================] - 0s 398us/step - loss: 19075.6044\n",
            "Epoch 159/200\n",
            "67/67 [==============================] - 0s 401us/step - loss: 18942.8670\n",
            "Epoch 160/200\n",
            "67/67 [==============================] - 0s 401us/step - loss: 18810.5260\n",
            "Epoch 161/200\n",
            "67/67 [==============================] - 0s 357us/step - loss: 18678.5532\n",
            "Epoch 162/200\n",
            "67/67 [==============================] - 0s 371us/step - loss: 18546.9279\n",
            "Epoch 163/200\n",
            "67/67 [==============================] - 0s 379us/step - loss: 18415.7029\n",
            "Epoch 164/200\n",
            "67/67 [==============================] - 0s 375us/step - loss: 18284.8272\n",
            "Epoch 165/200\n",
            "67/67 [==============================] - 0s 455us/step - loss: 18154.2285\n",
            "Epoch 166/200\n",
            "67/67 [==============================] - 0s 606us/step - loss: 18023.9225\n",
            "Epoch 167/200\n",
            "67/67 [==============================] - 0s 412us/step - loss: 17893.9128\n",
            "Epoch 168/200\n",
            "67/67 [==============================] - 0s 377us/step - loss: 17764.2036\n",
            "Epoch 169/200\n",
            "67/67 [==============================] - 0s 370us/step - loss: 17634.8007\n",
            "Epoch 170/200\n",
            "67/67 [==============================] - 0s 402us/step - loss: 17505.7111\n",
            "Epoch 171/200\n",
            "67/67 [==============================] - 0s 374us/step - loss: 17376.9930\n",
            "Epoch 172/200\n",
            "67/67 [==============================] - 0s 386us/step - loss: 17248.6172\n",
            "Epoch 173/200\n",
            "67/67 [==============================] - 0s 395us/step - loss: 17120.5572\n",
            "Epoch 174/200\n",
            "67/67 [==============================] - 0s 380us/step - loss: 16992.8751\n",
            "Epoch 175/200\n",
            "67/67 [==============================] - 0s 378us/step - loss: 16865.5134\n",
            "Epoch 176/200\n",
            "67/67 [==============================] - 0s 399us/step - loss: 16738.4739\n",
            "Epoch 177/200\n",
            "67/67 [==============================] - 0s 410us/step - loss: 16611.7949\n",
            "Epoch 178/200\n",
            "67/67 [==============================] - 0s 391us/step - loss: 16485.4735\n",
            "Epoch 179/200\n",
            "67/67 [==============================] - 0s 385us/step - loss: 16359.5333\n",
            "Epoch 180/200\n",
            "67/67 [==============================] - 0s 402us/step - loss: 16233.9530\n",
            "Epoch 181/200\n",
            "67/67 [==============================] - 0s 384us/step - loss: 16108.7257\n",
            "Epoch 182/200\n",
            "67/67 [==============================] - 0s 387us/step - loss: 15983.8570\n",
            "Epoch 183/200\n",
            "67/67 [==============================] - 0s 382us/step - loss: 15859.3516\n",
            "Epoch 184/200\n",
            "67/67 [==============================] - 0s 388us/step - loss: 15735.2560\n",
            "Epoch 185/200\n",
            "67/67 [==============================] - 0s 402us/step - loss: 15611.5584\n",
            "Epoch 186/200\n",
            "67/67 [==============================] - 0s 373us/step - loss: 15488.2577\n",
            "Epoch 187/200\n",
            "67/67 [==============================] - 0s 388us/step - loss: 15365.3580\n",
            "Epoch 188/200\n",
            "67/67 [==============================] - 0s 400us/step - loss: 15242.8536\n",
            "Epoch 189/200\n",
            "67/67 [==============================] - 0s 387us/step - loss: 15120.7461\n",
            "Epoch 190/200\n",
            "67/67 [==============================] - 0s 379us/step - loss: 14999.0343\n",
            "Epoch 191/200\n",
            "67/67 [==============================] - 0s 372us/step - loss: 14877.7212\n",
            "Epoch 192/200\n",
            "67/67 [==============================] - 0s 384us/step - loss: 14756.7920\n",
            "Epoch 193/200\n",
            "67/67 [==============================] - 0s 376us/step - loss: 14636.2593\n",
            "Epoch 194/200\n",
            "67/67 [==============================] - 0s 376us/step - loss: 14516.1454\n",
            "Epoch 195/200\n",
            "67/67 [==============================] - 0s 393us/step - loss: 14396.4420\n",
            "Epoch 196/200\n",
            "67/67 [==============================] - 0s 383us/step - loss: 14277.1597\n",
            "Epoch 197/200\n",
            "67/67 [==============================] - 0s 378us/step - loss: 14158.3235\n",
            "Epoch 198/200\n",
            "67/67 [==============================] - 0s 385us/step - loss: 14039.9215\n",
            "Epoch 199/200\n",
            "67/67 [==============================] - 0s 377us/step - loss: 13921.9365\n",
            "Epoch 200/200\n",
            "67/67 [==============================] - 0s 390us/step - loss: 13804.3599\n"
          ],
          "name": "stdout"
        }
      ]
    },
    {
      "cell_type": "code",
      "metadata": {
        "id": "TZ4GfCRxTyk6",
        "colab_type": "code",
        "colab": {
          "base_uri": "https://localhost:8080/",
          "height": 51
        },
        "outputId": "44cb987f-cb40-4af8-aa5b-e7caae2fc5b5"
      },
      "source": [
        "y_pred_test_lstm = model_lstm.predict(X_tst_t)\n",
        "y_train_pred_lstm = model_lstm.predict(X_tr_t)\n",
        "print(\"The R2 score on the Train set is:\\t{:0.3f}\".format(r2_score(y_train, y_train_pred_lstm)))\n",
        "r2_train = r2_score(y_train, y_train_pred_lstm)\n",
        "\n",
        "print(\"The R2 score on the Test set is:\\t{:0.3f}\".format(r2_score(y_test, y_pred_test_lstm)))\n",
        "r2_test = r2_score(y_test, y_pred_test_lstm)"
      ],
      "execution_count": 105,
      "outputs": [
        {
          "output_type": "stream",
          "text": [
            "The R2 score on the Train set is:\t-73.294\n",
            "The R2 score on the Test set is:\t-489.701\n"
          ],
          "name": "stdout"
        }
      ]
    },
    {
      "cell_type": "code",
      "metadata": {
        "id": "MLvqjavkT8uQ",
        "colab_type": "code",
        "colab": {
          "base_uri": "https://localhost:8080/",
          "height": 34
        },
        "outputId": "7d88f4a6-d5fa-4376-9868-42247183a635"
      },
      "source": [
        "score_lstm= model_lstm.evaluate(X_tst_t, y_test, batch_size=1)\n"
      ],
      "execution_count": 68,
      "outputs": [
        {
          "output_type": "stream",
          "text": [
            "14/14 [==============================] - 0s 10ms/step\n"
          ],
          "name": "stdout"
        }
      ]
    },
    {
      "cell_type": "code",
      "metadata": {
        "id": "sHyNfAGcT-lW",
        "colab_type": "code",
        "colab": {
          "base_uri": "https://localhost:8080/",
          "height": 34
        },
        "outputId": "4ef3ebc7-03ab-41cd-8432-c918994f7102"
      },
      "source": [
        "print('LSTM: %f'%score_lstm)\n"
      ],
      "execution_count": 69,
      "outputs": [
        {
          "output_type": "stream",
          "text": [
            "LSTM: 574.345687\n"
          ],
          "name": "stdout"
        }
      ]
    },
    {
      "cell_type": "code",
      "metadata": {
        "id": "TAYoIef3UJIy",
        "colab_type": "code",
        "colab": {}
      },
      "source": [
        "y_pred_test_LSTM = model_lstm.predict(X_tst_t)\n"
      ],
      "execution_count": 0,
      "outputs": []
    },
    {
      "cell_type": "code",
      "metadata": {
        "id": "qAQlWhcfUK5R",
        "colab_type": "code",
        "colab": {
          "base_uri": "https://localhost:8080/",
          "height": 295
        },
        "outputId": "37892d59-f8f6-4d8a-9b64-8b334fdef787"
      },
      "source": [
        "plt.plot(y_test, label='True')\n",
        "plt.plot(y_pred_test_LSTM, label='LSTM')\n",
        "plt.title(\"LSTM's_Prediction\")\n",
        "plt.xlabel('Observation')\n",
        "plt.ylabel('INR_Scaled')\n",
        "plt.legend()\n",
        "plt.show()\n"
      ],
      "execution_count": 71,
      "outputs": [
        {
          "output_type": "display_data",
          "data": {
            "image/png": "[encoded data removed]",
            "text/plain": [
              "<Figure size 432x288 with 1 Axes>"
            ]
          },
          "metadata": {
            "tags": []
          }
        }
      ]
    }
  ]
}